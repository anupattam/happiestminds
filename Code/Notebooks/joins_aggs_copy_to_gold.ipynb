{
 "cells": [
  {
   "cell_type": "code",
   "execution_count": 0,
   "metadata": {
    "application/vnd.databricks.v1+cell": {
     "cellMetadata": {
      "byteLimit": 2048000,
      "rowLimit": 10000
     },
     "inputWidgets": {},
     "nuid": "2694134d-50a2-4aad-8a1b-602d7746ba25",
     "showTitle": false,
     "tableResultSettingsMap": {},
     "title": ""
    }
   },
   "outputs": [],
   "source": [
    "silver_path = \"/Volumes/workspace/default/silver/\"\n",
    "gold_path = \"/Volumes/workspace/default/gold/\"\n",
    "\n",
    "from pyspark.sql.functions import *\n",
    "from pyspark.sql.types import *\n"
   ]
  },
  {
   "cell_type": "code",
   "execution_count": 0,
   "metadata": {
    "application/vnd.databricks.v1+cell": {
     "cellMetadata": {
      "byteLimit": 2048000,
      "rowLimit": 10000
     },
     "inputWidgets": {},
     "nuid": "00ac2b8e-0c70-42ec-bbf3-c0ec133e108c",
     "showTitle": false,
     "tableResultSettingsMap": {},
     "title": ""
    }
   },
   "outputs": [],
   "source": [
    "\n",
    "# In Silver Layer - Clean and Join Orders with Customers\n",
    "df_orders = spark.read.format(\"delta\").load(silver_path + \"orders\")\n",
    "df_customers = spark.read.format(\"delta\").load(silver_path + \"customers\")\n",
    "\n",
    "df_orders= (df_orders\n",
    ".filter(col(\"order_status\") == \"delivered\")\n",
    ".filter(col(\"order_delivered_customer_date\").isNotNull())\n",
    ".join(df_customers, on=\"customer_id\", how=\"inner\")\n",
    ".withColumn(\"delivery_days\", datediff(\"order_delivered_customer_date\", \"order_purchase_timestamp\"))\n",
    ".withColumn(\"delay_days\", datediff(\"order_delivered_customer_date\", \"order_estimated_delivery_date\"))\n",
    ".withColumn(\"order_month\", trunc(\"order_purchase_timestamp\", \"MM\"))\n",
    ".select(\"order_id\", \"customer_state\", \"order_month\", \"delivery_days\", \"delay_days\")\n",
    ")\n",
    "\n",
    "#df_orders.display()\n",
    "\n",
    "df_order_items = spark.read.format(\"delta\").load(silver_path + \"orders_items\")\n",
    "#df_order_items.display()\n",
    "\n",
    "# In Silver Layer - Aggregate Freight and Order Value per Order\n",
    "df_cost = (\n",
    "    df_order_items\n",
    "    .groupBy(\"order_id\")\n",
    "    .agg(\n",
    "        sum(\"freight_value\").alias(\"freight_cost\"),\n",
    "        sum(\"price\").alias(\"order_value\")\n",
    "    )\n",
    ")\n",
    "\n",
    "#df_cost.display()"
   ]
  },
  {
   "cell_type": "code",
   "execution_count": 0,
   "metadata": {
    "application/vnd.databricks.v1+cell": {
     "cellMetadata": {
      "byteLimit": 2048000,
      "rowLimit": 10000
     },
     "inputWidgets": {},
     "nuid": "886b1108-a846-4053-ab7c-032807cfd6f7",
     "showTitle": false,
     "tableResultSettingsMap": {},
     "title": ""
    }
   },
   "outputs": [],
   "source": [
    "# Compute Logistics KPIs per state & month\n",
    "df_kpis = (\n",
    "    df_orders\n",
    "    .join(df_cost, on=\"order_id\", how=\"left\")\n",
    "    .groupBy(\"customer_state\", \"order_month\")\n",
    "    .agg(\n",
    "        count(\"order_id\").alias(\"total_orders\"),\n",
    "        avg(\"delivery_days\").alias(\"avg_delivery_days\"),\n",
    "        avg(\"freight_cost\").alias(\"avg_freight_cost\"),\n",
    "        avg(\"order_value\").alias(\"avg_order_value\"),\n",
    "        (sum(when(col(\"delay_days\") > 0, 1).otherwise(0)) / count(\"order_id\")).alias(\"percent_late_deliveries\")\n",
    "    )\n",
    ")\n",
    "\n",
    "# Save in Gold layer for Power BI Reporting\n",
    "\n",
    "df_kpis.write.format(\"delta\").mode(\"overwrite\").save(gold_path + \"logistics_kpis\")\n",
    "df_kpis.write \\\n",
    "    .mode(\"overwrite\") \\\n",
    "    .option(\"header\", True) \\\n",
    "    .csv(gold_path + \"logistics_kpiscsv\")\n",
    "\n",
    "#df_kpis.display()"
   ]
  },
  {
   "cell_type": "code",
   "execution_count": 0,
   "metadata": {
    "application/vnd.databricks.v1+cell": {
     "cellMetadata": {
      "byteLimit": 2048000,
      "rowLimit": 10000
     },
     "inputWidgets": {},
     "nuid": "7c0cd151-c0b9-411f-824a-49143c93eda6",
     "showTitle": false,
     "tableResultSettingsMap": {},
     "title": ""
    }
   },
   "outputs": [],
   "source": [
    "#Compute Aggregated Procurement Data\n",
    "\n",
    "# Prepare order-level delivery info\n",
    "df_orders = spark.read.format(\"delta\").load(silver_path + \"orders\")\n",
    "df_orders = df_orders.withColumn(\"order_month\", date_format(\"order_purchase_timestamp\", \"yyyy-MM\"))\n",
    "\n",
    "# Join orders + order_items + products + sellers\n",
    "\n",
    "df_order_items = spark.read.format(\"delta\").load(silver_path + \"orders_items\")\n",
    "df_sellers = spark.read.format(\"delta\").load(silver_path + \"sellers\")\n",
    "df_products = spark.read.format(\"delta\").load(silver_path + \"products\")\n",
    "\n",
    "df_orders_extended = (\n",
    "df_order_items\n",
    ".join(df_orders, \"order_id\")\n",
    ".join(df_products.select(\"product_id\", \"product_category_name\"), \"product_id\", \"left\")\n",
    ".join(df_sellers.select(\"seller_id\", \"seller_state\"), \"seller_id\", \"left\")\n",
    ")\n",
    "df_orders_extended.display()\n",
    "\n",
    "#df_orders_extended.write.format(\"delta\").mode(\"overwrite\").save(gold_path + \"procurement_orders\")\n",
    "\n",
    "# Aggregated Procurement Data\n",
    "\n",
    "from pyspark.sql.functions import countDistinct, avg, sum\n",
    "\n",
    "df_procurement = (\n",
    "df_orders_extended\n",
    ".groupBy(\"order_month\", \"seller_state\", \"product_category_name\")\n",
    ".agg(\n",
    "countDistinct(\"order_id\").alias(\"total_orders\"),\n",
    "countDistinct(\"seller_id\").alias(\"unique_suppliers\"),\n",
    "avg(\"price\").alias(\"avg_product_cost\"),\n",
    "sum(\"price\").alias(\"total_procurement_cost\"),\n",
    "avg(\"freight_value\").alias(\"avg_freight_cost\")\n",
    ")\n",
    ")\n",
    "\n",
    "df_procurement.write.format(\"delta\").mode(\"overwrite\").save(gold_path + \"procurement_summary\")\n",
    "df_procurement.write.mode(\"overwrite\").option(\"header\", True).csv(gold_path + \"procurement_summarycsv\")\n"
   ]
  },
  {
   "cell_type": "code",
   "execution_count": 0,
   "metadata": {
    "application/vnd.databricks.v1+cell": {
     "cellMetadata": {
      "byteLimit": 2048000,
      "rowLimit": 10000
     },
     "inputWidgets": {},
     "nuid": "dbd2028c-d115-4040-9e4e-a0a2531b3d53",
     "showTitle": false,
     "tableResultSettingsMap": {},
     "title": ""
    }
   },
   "outputs": [],
   "source": [
    "#Join all relevant tables\n",
    "df_orders = spark.read.format(\"delta\").load(silver_path + \"orders\")\n",
    "df_orders = df_orders.withColumn(\"order_month\", date_format(\"order_purchase_timestamp\", \"yyyy-MM\"))\n",
    "\n",
    "df_order_items = spark.read.format(\"delta\").load(silver_path + \"orders_items\")\n",
    "df_customers = spark.read.format(\"delta\").load(silver_path + \"customers\")\n",
    "df_reviews = spark.read.format(\"delta\").load(silver_path + \"orders_reviews\")\n",
    "\n",
    "df_orders_enriched = (\n",
    "df_orders\n",
    ".join(df_order_items.drop(\"created_at\", \"processed_at\"), \"order_id\", \"left\")\n",
    ".join(df_products.drop(\"created_at\", \"processed_at\").select(\"product_id\", \"product_category_name\"), \"product_id\", \"left\")\n",
    ".join(df_customers.drop(\"created_at\", \"processed_at\"), \"customer_id\", \"left\")\n",
    ".join(df_reviews.drop(\"created_at\", \"processed_at\").select(\"order_id\", \"review_score\"), \"order_id\", \"left\")\n",
    ")\n",
    "#df_orders_enriched.display()\n",
    "df_orders_enriched.write.format(\"delta\").mode(\"overwrite\").save(gold_path + \"orders_enriched\")\n",
    "df_orders_enriched.write.mode(\"overwrite\").option(\"header\", True).csv(gold_path + \"orders_enrichedcsv\")\n",
    "\n",
    "# Aggregated for Marketing KPIs\n",
    "\n",
    "# Monthly Customer Metrics\n",
    "\n",
    "df_customers_gold = (\n",
    "df_orders_enriched\n",
    ".groupBy(\"order_month\")\n",
    ".agg(\n",
    "countDistinct(\"customer_id\").alias(\"active_customers\"),\n",
    "countDistinct(\"order_id\").alias(\"total_orders\"),\n",
    "avg(\"price\").alias(\"avg_order_value\"),\n",
    "countDistinct(\"product_category_name\").alias(\"unique_categories\"),\n",
    "avg(\"review_score\").alias(\"avg_review_score\")\n",
    ")\n",
    ")\n",
    "#df_customers_gold.display()\n",
    "df_customers_gold.write.format(\"delta\").mode(\"overwrite\").save(gold_path + \"customer_marketing_summary\")\n",
    "df_customers_gold.write.mode(\"overwrite\").option(\"header\", True).csv(gold_path + \"customer_marketing_summarycsv\")\n",
    "\n",
    "# Product Category Metrics\n",
    "\n",
    "df_category_gold = (\n",
    "df_orders_enriched\n",
    ".groupBy(\"product_category_name\")\n",
    ".agg(\n",
    "count(\"order_id\").alias(\"total_orders\"),\n",
    "avg(\"price\").alias(\"avg_product_price\"),\n",
    "sum(\"price\").alias(\"total_sales\"),\n",
    "avg(\"review_score\").alias(\"avg_review_score\")\n",
    ")\n",
    ".orderBy(col(\"total_sales\").desc())\n",
    ")\n",
    "#df_category_gold.display()\n",
    "df_category_gold.write.format(\"delta\").mode(\"overwrite\").save(gold_path + \"category_marketing_summary\")\n",
    "df_category_gold.write.mode(\"overwrite\").option(\"header\", True).csv(gold_path + \"category_marketing_summarycsv\")\n",
    "# Regional Insights (State-Level)\n",
    "\n",
    "df_regional_gold = (\n",
    "df_orders_enriched\n",
    ".groupBy(\"customer_state\")\n",
    ".agg(\n",
    "count(\"order_id\").alias(\"total_orders\"),\n",
    "sum(\"price\").alias(\"total_revenue\"),\n",
    "avg(\"review_score\").alias(\"avg_review_score\")\n",
    ")\n",
    ")\n",
    "#df_regional_gold.display()\n",
    "\n",
    "df_regional_gold.write.format(\"delta\").mode(\"overwrite\").save(gold_path + \"regional_marketing_summary\")\n",
    "df_regional_gold.write.mode(\"overwrite\").option(\"header\", True).csv(gold_path + \"regional_marketing_summarycsv\")\n",
    "\n",
    "# Review Summary \n",
    "\n",
    "df_review_summary = (\n",
    "df_reviews\n",
    ".groupBy(\"review_score\")\n",
    ".agg(count(\"review_id\").alias(\"review_count\"))\n",
    ".orderBy(\"review_score\")\n",
    ")\n",
    "\n",
    "df_review_summary.display()\n",
    "df_review_summary.write.format(\"delta\").mode(\"overwrite\").save(gold_path + \"marketing_review_summary\")\n",
    "df_review_summary.write.mode(\"overwrite\").option(\"header\", True).csv(gold_path + \"marketing_review_summarycsv\")\n"
   ]
  }
 ],
 "metadata": {
  "application/vnd.databricks.v1+notebook": {
   "computePreferences": null,
   "dashboards": [],
   "environmentMetadata": {
    "base_environment": "",
    "environment_version": "2"
   },
   "inputWidgetPreferences": null,
   "language": "python",
   "notebookMetadata": {
    "pythonIndentUnit": 4
   },
   "notebookName": "joins_aggs_copy_to_gold",
   "widgets": {}
  },
  "language_info": {
   "name": "python"
  }
 },
 "nbformat": 4,
 "nbformat_minor": 0
}
