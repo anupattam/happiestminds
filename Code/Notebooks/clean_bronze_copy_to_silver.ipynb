{
 "cells": [
  {
   "cell_type": "code",
   "execution_count": 0,
   "metadata": {
    "application/vnd.databricks.v1+cell": {
     "cellMetadata": {
      "byteLimit": 2048000,
      "rowLimit": 10000
     },
     "inputWidgets": {},
     "nuid": "879a3807-14fa-4da6-890d-0135580ea14c",
     "showTitle": false,
     "tableResultSettingsMap": {},
     "title": ""
    }
   },
   "outputs": [],
   "source": [
    "bronze_path = \"/Volumes/workspace/default/bronze/\"\n",
    "silver_path = \"/Volumes/workspace/default/silver/\"\n",
    "\n",
    "from pyspark.sql.functions import *\n",
    "from pyspark.sql.types import *\n",
    "\n",
    "# Remove Accents from the Products dataset, geolocation_city\n",
    "# install unidecode\n",
    "%pip install unidecode==1.3.6\n",
    "\n",
    "# Define the UDF\n",
    "remove_accents_udf = udf(lambda s: unidecode(s) if s else None, StringType())\n",
    "\n",
    "from unidecode import unidecode\n",
    "from pyspark.sql.functions import udf, current_timestamp\n",
    "from pyspark.sql.types import StringType\n",
    "\n",
    "#dbutils.library.restartPython()"
   ]
  },
  {
   "cell_type": "code",
   "execution_count": 0,
   "metadata": {
    "application/vnd.databricks.v1+cell": {
     "cellMetadata": {
      "byteLimit": 2048000,
      "rowLimit": 10000
     },
     "inputWidgets": {},
     "nuid": "75b65fc9-d9ab-44e1-b7a3-bf5489b2896b",
     "showTitle": false,
     "tableResultSettingsMap": {},
     "title": ""
    }
   },
   "outputs": [],
   "source": [
    "df_product_category = spark.read.format(\"delta\").load(bronze_path + \"product_category\")\n",
    "\n",
    "# Optional display\n",
    "df_product_category.display()\n",
    "\n",
    "# --------------------------------------------\n",
    "# Add Processed Timestamp\n",
    "# --------------------------------------------\n",
    "df_product_category = df_product_category.withColumn(\"processed_at\", current_timestamp())\n",
    "# --------------------------------------------\n",
    "# Write to silver in Delta Format\n",
    "# --------------------------------------------\n",
    "\n",
    "df_product_category.write \\\n",
    "    .format(\"delta\") \\\n",
    "    .mode(\"overwrite\") \\\n",
    "    .save(silver_path + \"product_category\") "
   ]
  },
  {
   "cell_type": "code",
   "execution_count": 0,
   "metadata": {
    "application/vnd.databricks.v1+cell": {
     "cellMetadata": {
      "byteLimit": 2048000,
      "rowLimit": 10000
     },
     "inputWidgets": {},
     "nuid": "aad36af3-70d5-4c14-9190-a4a77ddb29cd",
     "showTitle": false,
     "tableResultSettingsMap": {},
     "title": ""
    }
   },
   "outputs": [],
   "source": [
    "# ----------------------------------------------------\n",
    "# Clean and Transform Products dataset (As this dataset has null values)\n",
    "# ----------------------------------------------------\n",
    "from pyspark.sql.functions import col\n",
    "\n",
    "df_products = spark.read.format(\"delta\").load(bronze_path + \"products\")\n",
    "\n",
    "# Handle nulls\n",
    "df_products = df_products.fillna({\n",
    "    \"product_category_name\": \"N/A\",\n",
    "    \"product_name_length\": 0,\n",
    "    \"product_description_length\": 0,\n",
    "    \"product_photos_qty\": 0\n",
    "})\n",
    "\n",
    "df_joined = df_products.join( \\\n",
    "    broadcast(df_product_category),\\\n",
    "    on=\"product_category_name\", \\\n",
    "    how=\"left\")\n",
    "\n",
    "df_final = df_joined \\\n",
    "   .drop(df_product_category[\"created_at\"])\\\n",
    "   .drop(df_joined[\"product_category_name\"]) \\\n",
    "   .withColumnRenamed(\"product_category_name_english\", \"product_category_name\")\n",
    "\n",
    "df_final = df_final.withColumn(\n",
    "\"product_category_name\",\n",
    "when(col(\"product_category_name\") == \"pc_gamer\", \"gaming_pc\")\n",
    ".when(col(\"product_category_name\") == \"portateis_cozinha_e_preparadores_de_alimentos\", \"portable_kitchen_and_food_preparators\")\n",
    ".when(col(\"product_category_name\").isNull(), \"N/A\")\n",
    ".otherwise(col(\"product_category_name\"))\n",
    ")\n",
    "\n",
    "df_products = df_final\n",
    "\n",
    "df_products = df_products.withColumn(\"processed_at\", current_timestamp())\n",
    "\n",
    "# Write to Silver\n",
    "df_products.write \\\n",
    "    .format(\"delta\") \\\n",
    "    .mode(\"overwrite\") \\\n",
    "    .save(silver_path + \"products\") \n",
    "\n",
    "#df_products.display()"
   ]
  },
  {
   "cell_type": "code",
   "execution_count": 0,
   "metadata": {
    "application/vnd.databricks.v1+cell": {
     "cellMetadata": {
      "byteLimit": 2048000,
      "rowLimit": 10000
     },
     "inputWidgets": {},
     "nuid": "24e26942-093a-4b6c-9fa9-f375e838cf3e",
     "showTitle": false,
     "tableResultSettingsMap": {},
     "title": ""
    }
   },
   "outputs": [],
   "source": [
    "\n",
    "df_customer = spark.read.format(\"delta\").load(bronze_path + \"customers\")\n",
    "\n",
    "# Optional display\n",
    "#df_customer.display()\n",
    "\n",
    "# --------------------------------------------\n",
    "# Add Processed Timestamp\n",
    "# --------------------------------------------\n",
    "df_customer = df_customer.withColumn(\"processed_at\", current_timestamp())\n",
    "# --------------------------------------------\n",
    "# Write to silver in Delta Format\n",
    "# --------------------------------------------\n",
    "\n",
    "df_customer.write \\\n",
    "    .format(\"delta\") \\\n",
    "    .mode(\"overwrite\") \\\n",
    "    .save(silver_path + \"customers\") "
   ]
  },
  {
   "cell_type": "code",
   "execution_count": 0,
   "metadata": {
    "application/vnd.databricks.v1+cell": {
     "cellMetadata": {
      "byteLimit": 2048000,
      "rowLimit": 10000
     },
     "inputWidgets": {},
     "nuid": "07983fc3-4735-433f-960f-c7aae0013ff3",
     "showTitle": false,
     "tableResultSettingsMap": {},
     "title": ""
    }
   },
   "outputs": [],
   "source": [
    "df_seller = spark.read.format(\"delta\").load(bronze_path + \"sellers\")\n",
    "\n",
    "# Optional display\n",
    "#df_seller.display()\n",
    "\n",
    "# --------------------------------------------\n",
    "# Add Processed Timestamp\n",
    "# --------------------------------------------\n",
    "df_seller = df_seller.withColumn(\"processed_at\", current_timestamp())\n",
    "# --------------------------------------------\n",
    "# Write to silver in Delta Format\n",
    "# --------------------------------------------\n",
    "\n",
    "df_seller.write \\\n",
    "    .format(\"delta\") \\\n",
    "    .mode(\"overwrite\") \\\n",
    "    .save(silver_path + \"sellers\") "
   ]
  },
  {
   "cell_type": "code",
   "execution_count": 0,
   "metadata": {
    "application/vnd.databricks.v1+cell": {
     "cellMetadata": {
      "byteLimit": 2048000,
      "rowLimit": 10000
     },
     "inputWidgets": {},
     "nuid": "3c645881-53f5-4e66-8574-12fa3e22559a",
     "showTitle": false,
     "tableResultSettingsMap": {},
     "title": ""
    }
   },
   "outputs": [],
   "source": [
    "df_orders = spark.read.format(\"delta\").load(bronze_path + \"orders\")\n",
    "\n",
    "# Optional display\n",
    "df_orders.display()\n",
    "\n",
    "# --------------------------------------------\n",
    "# Add Processed Timestamp\n",
    "# --------------------------------------------\n",
    "df_orders = df_orders.withColumn(\"processed_at\", current_timestamp())\n",
    "# --------------------------------------------\n",
    "# Write to silver in Delta Format\n",
    "# --------------------------------------------\n",
    "\n",
    "df_orders.write \\\n",
    "    .format(\"delta\") \\\n",
    "    .mode(\"overwrite\") \\\n",
    "    .save(silver_path + \"orders\") "
   ]
  },
  {
   "cell_type": "code",
   "execution_count": 0,
   "metadata": {
    "application/vnd.databricks.v1+cell": {
     "cellMetadata": {
      "byteLimit": 2048000,
      "rowLimit": 10000
     },
     "inputWidgets": {},
     "nuid": "680a06e1-a414-4e94-bf64-27e0a463adb5",
     "showTitle": false,
     "tableResultSettingsMap": {},
     "title": ""
    }
   },
   "outputs": [],
   "source": [
    "df_orders_reviews = spark.read.format(\"delta\").load(bronze_path + \"orders_reviews\")\n",
    "\n",
    "df_orders_reviews = df_orders_reviews.withColumn(\"review_comment_title\", remove_accents_udf(col(\"review_comment_title\")))\n",
    "df_orders_reviews = df_orders_reviews.withColumn(\"review_comment_message\", remove_accents_udf(col(\"review_comment_message\")))\n",
    "\n",
    "# Optional display\n",
    "df_orders_reviews.display()\n",
    "\n",
    "# --------------------------------------------\n",
    "# Add Processed Timestamp\n",
    "# --------------------------------------------\n",
    "df_orders_reviews = df_orders_reviews.withColumn(\"processed_at\", current_timestamp())\n",
    "# --------------------------------------------\n",
    "# Write to silver in Delta Format\n",
    "# --------------------------------------------\n",
    "\n",
    "df_orders_reviews.write \\\n",
    "    .format(\"delta\") \\\n",
    "    .mode(\"overwrite\") \\\n",
    "    .save(silver_path + \"orders_reviews\") "
   ]
  },
  {
   "cell_type": "code",
   "execution_count": 0,
   "metadata": {
    "application/vnd.databricks.v1+cell": {
     "cellMetadata": {
      "byteLimit": 2048000,
      "rowLimit": 10000
     },
     "inputWidgets": {},
     "nuid": "19df02ba-cc81-4dac-bcad-dc1d74977ce2",
     "showTitle": false,
     "tableResultSettingsMap": {},
     "title": ""
    }
   },
   "outputs": [],
   "source": [
    "df_orders_items = spark.read.format(\"delta\").load(bronze_path + \"orders_items\")\n",
    "\n",
    "# Optional display\n",
    "#df_orders_items.display()\n",
    "\n",
    "# --------------------------------------------\n",
    "# Add Processed Timestamp\n",
    "# --------------------------------------------\n",
    "df_orders_items = df_orders_items.withColumn(\"processed_at\", current_timestamp())\n",
    "# --------------------------------------------\n",
    "# Write to silver in Delta Format\n",
    "# --------------------------------------------\n",
    "\n",
    "df_orders_items.write \\\n",
    "    .format(\"delta\") \\\n",
    "    .mode(\"overwrite\") \\\n",
    "    .save(silver_path + \"orders_items\") "
   ]
  },
  {
   "cell_type": "code",
   "execution_count": 0,
   "metadata": {
    "application/vnd.databricks.v1+cell": {
     "cellMetadata": {
      "byteLimit": 2048000,
      "rowLimit": 10000
     },
     "inputWidgets": {},
     "nuid": "cfd2633b-a41a-43cd-b447-29b1dc494e21",
     "showTitle": false,
     "tableResultSettingsMap": {},
     "title": ""
    }
   },
   "outputs": [],
   "source": [
    "df_order_payments = spark.read.format(\"delta\").load(bronze_path + \"order_payments\")\n",
    "\n",
    "# Optional display\n",
    "#df_order_payments.display()\n",
    "\n",
    "# --------------------------------------------\n",
    "# Add Processed Timestamp\n",
    "# --------------------------------------------\n",
    "df_order_payments = df_order_payments.withColumn(\"processed_at\", current_timestamp())\n",
    "# --------------------------------------------\n",
    "# Write to silver in Delta Format\n",
    "# --------------------------------------------\n",
    "\n",
    "df_order_payments.write \\\n",
    "    .format(\"delta\") \\\n",
    "    .mode(\"overwrite\") \\\n",
    "    .save(silver_path + \"order_payments\") "
   ]
  },
  {
   "cell_type": "code",
   "execution_count": 0,
   "metadata": {
    "application/vnd.databricks.v1+cell": {
     "cellMetadata": {
      "byteLimit": 2048000,
      "rowLimit": 10000
     },
     "inputWidgets": {},
     "nuid": "c3294d85-aab4-4713-b7d3-b6613f038950",
     "showTitle": false,
     "tableResultSettingsMap": {},
     "title": ""
    }
   },
   "outputs": [],
   "source": [
    "df_geolocation = spark.read.format(\"delta\").load(bronze_path + \"geolocation\")\n",
    "\n",
    "df_geolocation = df_geolocation.withColumn(\"geolocation_city\", remove_accents_udf(col(\"geolocation_city\")))\n",
    "\n",
    "# --------------------------------------------\n",
    "# Add Processed Timestamp\n",
    "# --------------------------------------------\n",
    "df_geolocation = df_geolocation.withColumn(\"processed_at\", current_timestamp())\n",
    "\n",
    "# Optional display\n",
    "#df_geolocation.select(\"geolocation_city\").distinct().display()\n",
    "\n",
    "# --------------------------------------------\n",
    "# Write to silver in Delta Format\n",
    "# --------------------------------------------\n",
    "\n",
    "df_geolocation.write \\\n",
    "    .format(\"delta\") \\\n",
    "    .mode(\"overwrite\") \\\n",
    "    .save(silver_path + \"geolocation\") "
   ]
  }
 ],
 "metadata": {
  "application/vnd.databricks.v1+notebook": {
   "computePreferences": null,
   "dashboards": [],
   "environmentMetadata": {
    "base_environment": "",
    "environment_version": "2"
   },
   "inputWidgetPreferences": null,
   "language": "python",
   "notebookMetadata": {
    "pythonIndentUnit": 4
   },
   "notebookName": "clean_bronze_copy_to_silver",
   "widgets": {}
  },
  "language_info": {
   "name": "python"
  }
 },
 "nbformat": 4,
 "nbformat_minor": 0
}
