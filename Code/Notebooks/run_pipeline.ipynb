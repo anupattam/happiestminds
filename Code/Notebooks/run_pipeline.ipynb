{
 "cells": [
  {
   "cell_type": "code",
   "execution_count": 0,
   "metadata": {
    "application/vnd.databricks.v1+cell": {
     "cellMetadata": {
      "byteLimit": 2048000,
      "rowLimit": 10000
     },
     "inputWidgets": {},
     "nuid": "890490b8-6242-416b-801f-464fbaeacd89",
     "showTitle": false,
     "tableResultSettingsMap": {},
     "title": ""
    }
   },
   "outputs": [],
   "source": [
    "# Trigger the Bronze layer\n",
    "dbutils.notebook.run(\"/Users/apattam@outlook.com/ingest_source_to_bronze\", timeout_seconds=600)\n",
    "\n",
    "# Trigger the Silver layer\n",
    "dbutils.notebook.run(\"/Users/apattam@outlook.com/clean_bronze_copy_to_silver\", timeout_seconds=600)\n",
    "\n",
    "# Trigger the Gold layer\n",
    "dbutils.notebook.run(\"/Users/apattam@outlook.com/joins_aggs_copy_to_gold\", timeout_seconds=600)"
   ]
  }
 ],
 "metadata": {
  "application/vnd.databricks.v1+notebook": {
   "computePreferences": null,
   "dashboards": [],
   "environmentMetadata": {
    "base_environment": "",
    "environment_version": "2"
   },
   "inputWidgetPreferences": null,
   "language": "python",
   "notebookMetadata": {
    "pythonIndentUnit": 4
   },
   "notebookName": "run_pipeline",
   "widgets": {}
  },
  "language_info": {
   "name": "python"
  }
 },
 "nbformat": 4,
 "nbformat_minor": 0
}
